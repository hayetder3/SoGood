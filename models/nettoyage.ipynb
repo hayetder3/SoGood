{
 "cells": [
  {
   "cell_type": "code",
   "execution_count": 1,
   "id": "adfa90da",
   "metadata": {},
   "outputs": [],
   "source": [
    "import pandas as pd"
   ]
  },
  {
   "cell_type": "code",
   "execution_count": 3,
   "id": "edb50dd7",
   "metadata": {},
   "outputs": [
    {
     "name": "stderr",
     "output_type": "stream",
     "text": [
      "C:\\Users\\SAID MEKAOUAR\\AppData\\Local\\Temp\\ipykernel_21124\\1893879445.py:2: DtypeWarning: Columns (0) have mixed types. Specify dtype option on import or set low_memory=False.\n",
      "  df = pd.read_csv('C:/Users/SAID MEKAOUAR/Downloads/SoGood (1)/SoGood/data/processed/SoGood_CLEAN_FINAL.csv', encoding='latin1')\n"
     ]
    },
    {
     "name": "stdout",
     "output_type": "stream",
     "text": [
      "        code                                 product_name_clean   brands  \\\n",
      "0  101209159  VÃ©ritable pÃ¢te Ã  tartiner noisettes chocola...  Bovetti   \n",
      "1  105000011                               Chamomile Herbal Tea   Lagg's   \n",
      "2  105000042                     Lagg's, herbal tea, peppermint   Lagg's   \n",
      "3  105000059                                 Linden Flowers Tea   Lagg's   \n",
      "4  105000073                               Herbal Tea, Hibiscus   Lagg's   \n",
      "\n",
      "                                          categories nutriscore_grade  \\\n",
      "0  Petit-dÃ©jeuners,Produits Ã  tartiner,Produits...                e   \n",
      "1                                            Unknown              NaN   \n",
      "2  Plant-based foods and beverages, Beverages, Ho...              NaN   \n",
      "3  Beverages and beverages preparations, Plant-ba...              NaN   \n",
      "4                                            Unknown              NaN   \n",
      "\n",
      "   nova_group  energy-kcal_100g  fat_100g  sugars_100g  salt_100g  \\\n",
      "0         NaN             617.0      48.0         32.0    0.01000   \n",
      "1         NaN               0.0       0.0          0.0    0.00000   \n",
      "2         NaN               0.0       0.0          0.0    0.01000   \n",
      "3         NaN               0.0       0.0          0.0    0.00000   \n",
      "4         NaN             267.0       0.0          0.0    0.33782   \n",
      "\n",
      "   proteins_100g  \n",
      "0       8.000000  \n",
      "1       0.000000  \n",
      "2       0.000000  \n",
      "3       0.000000  \n",
      "4      66.669998  \n"
     ]
    }
   ],
   "source": [
    "# Remplacer par le chemin de ton fichier\n",
    "df = pd.read_csv('C:/Users/SAID MEKAOUAR/Downloads/SoGood (1)/SoGood/data/processed/SoGood_CLEAN_FINAL.csv', encoding='latin1')\n",
    "\n",
    "# Afficher les premières lignes\n",
    "print(df.head())"
   ]
  },
  {
   "cell_type": "code",
   "execution_count": 4,
   "id": "af9726fe",
   "metadata": {},
   "outputs": [
    {
     "name": "stdout",
     "output_type": "stream",
     "text": [
      "nova_group          float64\n",
      "energy-kcal_100g    float64\n",
      "fat_100g            float64\n",
      "sugars_100g         float64\n",
      "salt_100g           float64\n",
      "proteins_100g       float64\n",
      "dtype: object\n"
     ]
    }
   ],
   "source": [
    "colonnes_numeriques = [\n",
    "    'nova_group',\n",
    "    'energy-kcal_100g',\n",
    "    'fat_100g',\n",
    "    'sugars_100g',\n",
    "    'salt_100g',\n",
    "    'proteins_100g'\n",
    "]\n",
    "\n",
    "for col in colonnes_numeriques:\n",
    "    df[col] = pd.to_numeric(df[col], errors='coerce')  # remplace erreurs par NaN\n",
    "\n",
    "# Vérification\n",
    "print(df[colonnes_numeriques].dtypes)\n"
   ]
  },
  {
   "cell_type": "code",
   "execution_count": 5,
   "id": "29741356",
   "metadata": {},
   "outputs": [
    {
     "name": "stdout",
     "output_type": "stream",
     "text": [
      "Distribution des notes nutriscore :\n",
      "nutriscore_grade\n",
      "e    358337\n",
      "d    318673\n",
      "c    258926\n",
      "a    176675\n",
      "b    145522\n",
      "Name: count, dtype: int64\n"
     ]
    }
   ],
   "source": [
    "df_clean = df[df['nutriscore_grade'].isin(['a', 'b', 'c', 'd', 'e'])].copy()\n",
    "\n",
    "print(\"Distribution des notes nutriscore :\")\n",
    "print(df_clean['nutriscore_grade'].value_counts())\n"
   ]
  },
  {
   "cell_type": "code",
   "execution_count": 6,
   "id": "63bc9a1e",
   "metadata": {},
   "outputs": [
    {
     "name": "stdout",
     "output_type": "stream",
     "text": [
      "Encodage Nutriscore : {'a': 0, 'b': 1, 'c': 2, 'd': 3, 'e': 4}\n"
     ]
    }
   ],
   "source": [
    "from sklearn.preprocessing import LabelEncoder\n",
    "import pandas as pd\n",
    "\n",
    "# Étape 1 : conserver uniquement les valeurs valides\n",
    "valeurs_valides = ['a', 'b', 'c', 'd', 'e']\n",
    "df_clean = df_clean[df_clean['nutriscore_grade'].isin(valeurs_valides)].copy()\n",
    "\n",
    "# Étape 2 : encoder proprement\n",
    "le = LabelEncoder()\n",
    "df_clean['nutriscore_encoded'] = le.fit_transform(df_clean['nutriscore_grade'])\n",
    "\n",
    "# Étape 3 : vérification\n",
    "print(\"Encodage Nutriscore :\", dict(zip(le.classes_, le.transform(le.classes_))))\n"
   ]
  },
  {
   "cell_type": "code",
   "execution_count": 11,
   "id": "d8e996b5",
   "metadata": {},
   "outputs": [
    {
     "name": "stdout",
     "output_type": "stream",
     "text": [
      "3.10.4 (tags/v3.10.4:9d38120, Mar 23 2022, 23:13:41) [MSC v.1929 64 bit (AMD64)]\n",
      "c:\\Users\\SAID MEKAOUAR\\AppData\\Local\\Programs\\Python\\Python310\\python.exe\n"
     ]
    }
   ],
   "source": [
    "import sys\n",
    "print(sys.version)\n",
    "print(sys.executable)"
   ]
  },
  {
   "cell_type": "code",
   "execution_count": 24,
   "id": "f23bac9b",
   "metadata": {},
   "outputs": [],
   "source": [
    "X = df_clean.drop(columns=['nova_group'])"
   ]
  },
  {
   "cell_type": "code",
   "execution_count": 26,
   "id": "a3b98ab8",
   "metadata": {},
   "outputs": [
    {
     "name": "stdout",
     "output_type": "stream",
     "text": [
      "Accuracy: 0.740055717391218\n",
      "\n",
      "Classification Report:\n",
      "               precision    recall  f1-score   support\n",
      "\n",
      "           0       0.68      0.75      0.71     35335\n",
      "           1       0.64      0.45      0.53     29104\n",
      "           2       0.66      0.68      0.67     51785\n",
      "           3       0.73      0.80      0.76     63735\n",
      "           4       0.87      0.84      0.86     71668\n",
      "\n",
      "    accuracy                           0.74    251627\n",
      "   macro avg       0.72      0.70      0.71    251627\n",
      "weighted avg       0.74      0.74      0.74    251627\n",
      "\n"
     ]
    },
    {
     "data": {
      "image/png": "[encoded data removed]",
      "text/plain": [
       "<Figure size 700x500 with 2 Axes>"
      ]
     },
     "metadata": {},
     "output_type": "display_data"
    }
   ],
   "source": [
    "from sklearn.ensemble import RandomForestClassifier\n",
    "from sklearn.model_selection import train_test_split\n",
    "from sklearn.metrics import accuracy_score, classification_report, confusion_matrix\n",
    "import seaborn as sns\n",
    "import matplotlib.pyplot as plt\n",
    "\n",
    "# Variables explicatives (sans nova_group)\n",
    "X = df_clean[[\n",
    "    'energy-kcal_100g',\n",
    "    'fat_100g',\n",
    "    'sugars_100g',\n",
    "    'salt_100g',\n",
    "    'proteins_100g',\n",
    "]]\n",
    "y = df_clean['nutriscore_encoded']\n",
    "\n",
    "# Split train/test\n",
    "X_train, X_test, y_train, y_test = train_test_split(\n",
    "    X, y, test_size=0.2, random_state=42, stratify=y\n",
    ")\n",
    "\n",
    "# Modèle Random Forest\n",
    "rf = RandomForestClassifier(\n",
    "    n_estimators=100,       # nombre d'arbres dans la forêt\n",
    "    max_depth=10,           # profondeur max des arbres (à ajuster)\n",
    "    random_state=42,\n",
    "    n_jobs=-1               # pour utiliser tous les coeurs CPU disponibles\n",
    ")\n",
    "\n",
    "# Entraînement\n",
    "rf.fit(X_train, y_train)\n",
    "\n",
    "# Prédictions\n",
    "y_pred = rf.predict(X_test)\n",
    "\n",
    "# Évaluation\n",
    "print(\"Accuracy:\", accuracy_score(y_test, y_pred))\n",
    "print(\"\\nClassification Report:\\n\", classification_report(y_test, y_pred))\n",
    "\n",
    "# Matrice de confusion\n",
    "plt.figure(figsize=(7,5))\n",
    "sns.heatmap(confusion_matrix(y_test, y_pred), annot=True, fmt='d', cmap='Blues',\n",
    "            xticklabels=le.classes_, yticklabels=le.classes_)\n",
    "plt.xlabel('Prédit')\n",
    "plt.ylabel('Réel')\n",
    "plt.title('Matrice de confusion - Random Forest')\n",
    "plt.show()\n"
   ]
  },
  {
   "cell_type": "code",
   "execution_count": 31,
   "id": "e34fb4b4",
   "metadata": {},
   "outputs": [
    {
     "name": "stdout",
     "output_type": "stream",
     "text": [
      "Prédictions Nutriscore (encodé) pour les nouveaux cas : [2 3]\n"
     ]
    }
   ],
   "source": [
    "import joblib\n",
    "import pandas as pd\n",
    "\n",
    "# Charger le modèle sauvegardé\n",
    "rf_loaded = joblib.load('C:/Users/SAID MEKAOUAR/Downloads/SoGood (1)/SoGood/models/random_forest_nutriscore.pkl')\n",
    "\n",
    "# Exemple de nouveaux cas à tester (doivent avoir les mêmes colonnes que X_train)\n",
    "# Ici, 2 exemples fictifs, avec les mêmes features que ton modèle :\n",
    "nouveaux_exemples = pd.DataFrame([\n",
    "    {'energy-kcal_100g': 150, 'fat_100g': 5, 'sugars_100g': 10, 'salt_100g': 0.5, 'proteins_100g': 3},\n",
    "    {'energy-kcal_100g': 300, 'fat_100g': 15, 'sugars_100g': 20, 'salt_100g': 1.5, 'proteins_100g': 8},\n",
    "])\n",
    "\n",
    "# Prédire les classes pour ces nouveaux exemples\n",
    "predictions = rf_loaded.predict(nouveaux_exemples)\n",
    "\n",
    "print(\"Prédictions Nutriscore (encodé) pour les nouveaux cas :\", predictions)\n"
   ]
  },
  {
   "cell_type": "code",
   "execution_count": 29,
   "id": "a67af11e",
   "metadata": {},
   "outputs": [
    {
     "data": {
      "text/plain": [
       "['random_forest_nutriscore.pkl']"
      ]
     },
     "execution_count": 29,
     "metadata": {},
     "output_type": "execute_result"
    }
   ],
   "source": [
    "import joblib\n",
    "\n",
    "# Enregistrer le modèle dans un fichier\n",
    "joblib.dump(rf, 'random_forest_nutriscore.pkl')\n"
   ]
  }
 ],
 "metadata": {
  "kernelspec": {
   "display_name": "Python 3",
   "language": "python",
   "name": "python3"
  },
  "language_info": {
   "codemirror_mode": {
    "name": "ipython",
    "version": 3
   },
   "file_extension": ".py",
   "mimetype": "text/x-python",
   "name": "python",
   "nbconvert_exporter": "python",
   "pygments_lexer": "ipython3",
   "version": "3.10.4"
  }
 },
 "nbformat": 4,
 "nbformat_minor": 5
}
